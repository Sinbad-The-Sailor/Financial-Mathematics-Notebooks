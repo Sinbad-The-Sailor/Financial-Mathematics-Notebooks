{
 "cells": [
  {
   "cell_type": "markdown",
   "id": "5d932bc9",
   "metadata": {},
   "source": [
    "# Option Pricing with Partial Differential Equations\n",
    "\n",
    "We are to price options by solving the Partial Differential Equations they adhere to numerically, using different finite difference methodologies.\n",
    "\n",
    "The options in consideration are:\n",
    "* Plain vanilla european call option\n",
    "* european cash-or-nothing option\n",
    "* european asset-or-nothing option"
   ]
  },
  {
   "cell_type": "markdown",
   "id": "fedf7b35",
   "metadata": {},
   "source": []
  },
  {
   "cell_type": "code",
   "execution_count": null,
   "id": "a7ac5d43",
   "metadata": {},
   "outputs": [],
   "source": []
  },
  {
   "cell_type": "code",
   "execution_count": null,
   "metadata": {},
   "outputs": [],
   "source": []
  }
 ],
 "metadata": {
  "kernelspec": {
   "display_name": "Python 3.10.6 64-bit",
   "language": "python",
   "name": "python3"
  },
  "language_info": {
   "name": "python",
   "version": "3.10.6"
  },
  "vscode": {
   "interpreter": {
    "hash": "b0fa6594d8f4cbf19f97940f81e996739fb7646882a419484c72d19e05852a7e"
   }
  }
 },
 "nbformat": 4,
 "nbformat_minor": 5
}
