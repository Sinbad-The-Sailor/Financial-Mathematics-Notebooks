{
 "cells": [
  {
   "cell_type": "markdown",
   "metadata": {},
   "source": [
    "# Options Pricing with Binomial Model\n",
    "\n",
    "*Goals:*\n",
    "\n",
    "* Value OMXS30 options with Binomial Model and continuous dividends\n",
    "* Value American options with Discrete Dividends\n",
    "* Compute the implied volatility of American options using the Binomial Model\n",
    "\n",
    "*Data:*\n",
    "\n",
    "* Risk Free Interest Rate Curve (OIS)\n",
    "* Futures prices to back out continous dividends\n",
    "* Dividends, Maturities, and other Contract Specifications"
   ]
  },
  {
   "cell_type": "code",
   "execution_count": 1,
   "metadata": {},
   "outputs": [],
   "source": [
    "import numpy as np\n",
    "import pandas as pd\n",
    "import seaborn as sns\n",
    "from matplotlib import pyplot as plt\n",
    "\n",
    "%config InlineBackend.figure_format = 'retina'\n",
    "sns.set_theme()\n",
    "sns.set_style(\"whitegrid\", {'grid.linestyle': '--'})\n",
    "seq_col_brew = sns.color_palette(\"flag_r\", 4)\n",
    "sns.set_palette(seq_col_brew)"
   ]
  },
  {
   "cell_type": "markdown",
   "metadata": {},
   "source": [
    "* Options Price (bid/ask): 55.50/59.50\n",
    "* Option Vol (bid/ask): 22.85/24.61\n",
    "* OMXS30 Points (close): 1965.29 \n",
    "* OIS discount factor: 0.9984 (1M) 24 days\n",
    "* Futures Price: 1964.50 @ 18 NOV\n",
    "* Time To Maturity (years): 24/365\n",
    "* Time Step: 1/365\n"
   ]
  },
  {
   "cell_type": "code",
   "execution_count": 25,
   "metadata": {},
   "outputs": [],
   "source": [
    "rate = -1/(1/12) * np.log(0.9984)\n",
    "dividend_yield = rate - 1/(24/365)*np.log(1964.25/1965.29)"
   ]
  },
  {
   "cell_type": "code",
   "execution_count": 26,
   "metadata": {},
   "outputs": [
    {
     "data": {
      "text/plain": [
       "0.01921537640368655"
      ]
     },
     "execution_count": 26,
     "metadata": {},
     "output_type": "execute_result"
    }
   ],
   "source": [
    "rate"
   ]
  },
  {
   "cell_type": "code",
   "execution_count": 27,
   "metadata": {},
   "outputs": [
    {
     "data": {
      "text/plain": [
       "0.0272655130792087"
      ]
     },
     "execution_count": 27,
     "metadata": {},
     "output_type": "execute_result"
    }
   ],
   "source": [
    "dividend_yield"
   ]
  },
  {
   "cell_type": "code",
   "execution_count": 4,
   "metadata": {},
   "outputs": [],
   "source": [
    "def price_option(imp_vol, spot, strike, expiry, delta_t, rate, div_yield, type=\"CE\"):\n",
    "    \"\"\"\n",
    "    type: Call European (CE), Put European (PE), Call American (CA), Put American (PA)\n",
    "    \"\"\"\n",
    "\n",
    "    # Initialize parameters.\n",
    "    u = np.exp(imp_vol*np.sqrt(delta_t))\n",
    "    d = 1/u\n",
    "    q = (np.exp((rate-div_yield) * delta_t) - d) / (u - d)\n",
    "    steps = np.floor(expiry/delta_t)\n",
    "    \n",
    "    # Build spot matrix. TODO: Jagged arrays.\n",
    "    spot_matrix = np.zeros((steps+1, steps+1))\n",
    "    for i in range(steps+1):\n",
    "        pass\n",
    "\n",
    "\n",
    "    option_price = 0\n",
    "    \n",
    "\n",
    "    return option_price"
   ]
  },
  {
   "cell_type": "markdown",
   "metadata": {},
   "source": []
  },
  {
   "cell_type": "code",
   "execution_count": null,
   "metadata": {},
   "outputs": [],
   "source": []
  }
 ],
 "metadata": {
  "kernelspec": {
   "display_name": "Python 3.9.7 64-bit",
   "language": "python",
   "name": "python3"
  },
  "language_info": {
   "codemirror_mode": {
    "name": "ipython",
    "version": 3
   },
   "file_extension": ".py",
   "mimetype": "text/x-python",
   "name": "python",
   "nbconvert_exporter": "python",
   "pygments_lexer": "ipython3",
   "version": "3.9.7"
  },
  "orig_nbformat": 4,
  "vscode": {
   "interpreter": {
    "hash": "aee8b7b246df8f9039afb4144a1f6fd8d2ca17a180786b69acc140d282b71a49"
   }
  }
 },
 "nbformat": 4,
 "nbformat_minor": 2
}
