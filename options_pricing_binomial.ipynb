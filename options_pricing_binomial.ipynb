{
 "cells": [
  {
   "cell_type": "markdown",
   "metadata": {},
   "source": [
    "# Options Pricing with Binomial Model\n",
    "\n",
    "*Goals:*\n",
    "\n",
    "* Value OMXS30 options with Binomial Model and continuous dividends\n",
    "* Value American options with Discrete Dividends\n",
    "* Compute the implied volatility of American options using the Binomial Model\n",
    "\n",
    "*Data:*\n",
    "\n",
    "* Risk Free Interest Rate Curve (OIS)\n",
    "* Futures prices to back out continous dividends\n",
    "* Dividends, Maturities, and other Contract Specifications"
   ]
  },
  {
   "cell_type": "code",
   "execution_count": 5,
   "metadata": {},
   "outputs": [],
   "source": [
    "import numpy as np\n",
    "import pandas as pd\n",
    "import seaborn as sns\n",
    "from matplotlib import pyplot as plt\n",
    "\n",
    "%config InlineBackend.figure_format = 'retina'\n",
    "sns.set_theme()\n",
    "sns.set_style(\"whitegrid\", {'grid.linestyle': '--'})\n",
    "seq_col_brew = sns.color_palette(\"flag_r\", 4)\n",
    "sns.set_palette(seq_col_brew)"
   ]
  },
  {
   "cell_type": "markdown",
   "metadata": {},
   "source": [
    "* Options Price (bid/ask): 55.50/59.50\n",
    "* Option Vol (bid/ask): 22.85/24.61\n",
    "* OMXS30 Points (close): 1965.29 \n",
    "* OIS discount factor: 0.9984 (1M) 24 days\n",
    "* Futures Price: 1964.50 @ 18 NOV\n",
    "* Time To Maturity (years): 24/365\n",
    "* Time Step: 1/365\n"
   ]
  },
  {
   "cell_type": "code",
   "execution_count": 6,
   "metadata": {},
   "outputs": [],
   "source": [
    "rate = -1/(1/12) * np.log(0.9984)"
   ]
  },
  {
   "cell_type": "code",
   "execution_count": 7,
   "metadata": {},
   "outputs": [
    {
     "data": {
      "text/plain": [
       "0.01921537640368655"
      ]
     },
     "execution_count": 7,
     "metadata": {},
     "output_type": "execute_result"
    }
   ],
   "source": [
    "rate"
   ]
  },
  {
   "cell_type": "code",
   "execution_count": 58,
   "metadata": {},
   "outputs": [],
   "source": [
    "from scipy.stats import norm\n",
    "\n",
    "def black76(imp_vol, forward, strike, expiry, rate, type=\"C\"):\n",
    "    d1 = 1/(imp_vol * np.sqrt(expiry)) * (np.log(forward/strike) + imp_vol**2/2 * expiry)\n",
    "    d2 = d1 - imp_vol * np.sqrt(expiry)\n",
    "    discount = np.exp(-rate * expiry)\n",
    "    return discount * (forward * norm.cdf(d1) - strike * norm.cdf(d2)) "
   ]
  },
  {
   "cell_type": "code",
   "execution_count": 59,
   "metadata": {},
   "outputs": [
    {
     "name": "stdout",
     "output_type": "stream",
     "text": [
      "      converged: True\n",
      "           flag: 'converged'\n",
      " function_calls: 8\n",
      "     iterations: 7\n",
      "           root: 0.2416455921013494\n",
      "111.40000000000018\n"
     ]
    },
    {
     "name": "stderr",
     "output_type": "stream",
     "text": [
      "/var/folders/d7/rpl_88f12ln2z1s2h4m9ybjm0000gn/T/ipykernel_6691/2957959625.py:4: RuntimeWarning: divide by zero encountered in double_scalars\n",
      "  d1 = 1/(imp_vol * np.sqrt(expiry)) * (np.log(forward/strike) + imp_vol**2/2 * expiry)\n"
     ]
    }
   ],
   "source": [
    "from scipy.optimize import root_scalar\n",
    "\n",
    "# Extracting the implied volatility.\n",
    "def formatted_function(imp_vol):\n",
    "    return black76(imp_vol, 1964.50, 1950, 24/365, rate, \"C\")- 55.90\n",
    "print(root_scalar(formatted_function, bracket=[0, 1]))\n",
    "print(black76(0.5204576110995609, 1964.50, 1950, 24/365, rate, \"C\"))"
   ]
  },
  {
   "cell_type": "code",
   "execution_count": 65,
   "metadata": {},
   "outputs": [],
   "source": [
    "def price_option(imp_vol, spot, strike, expiry, delta_t, rate, div_yield, type=\"CE\"):\n",
    "    \"\"\"\n",
    "    type: Call European (CE), Put European (PE), Call American (CA), Put American (PA)\n",
    "    \"\"\"\n",
    "\n",
    "    # Initialize parameters.\n",
    "    u = np.exp(imp_vol*np.sqrt(delta_t))\n",
    "    d = 1/u\n",
    "    q = (np.exp((rate-div_yield) * delta_t) - d) / (u - d)\n",
    "    steps = int(np.floor(expiry/delta_t))\n",
    "    \n",
    "    # Build spot matrix. TODO: Jagged arrays.\n",
    "    spot_matrix = np.zeros((steps+1, steps+1))\n",
    "    for i in range(steps+1):\n",
    "        for j in range(steps+1):\n",
    "            if j >= i:\n",
    "                spot_matrix[i,j] = spot * u **(j-i) * d**(i)\n",
    "\n",
    "    # Pricing EURPOEAN CALL OPTIONS HERE:\n",
    "\n",
    "\n",
    "    # Pricing AMERICAN CALL OPTIONS HERE:\n",
    "\n",
    "\n",
    "    option_price = 0\n",
    "    \n",
    "    return option_price"
   ]
  },
  {
   "cell_type": "markdown",
   "metadata": {},
   "source": []
  },
  {
   "cell_type": "code",
   "execution_count": 76,
   "metadata": {},
   "outputs": [
    {
     "name": "stdout",
     "output_type": "stream",
     "text": [
      "[[100.         101.2729449  102.56209369 103.86765263 105.18983062\n",
      "  106.52883921 107.88489264 109.25820788 110.64900467]\n",
      " [  0.          98.74305531 100.         101.2729449  102.56209369\n",
      "  103.86765263 105.18983062 106.52883921 107.88489264]\n",
      " [  0.           0.          97.50190972  98.74305531 100.\n",
      "  101.2729449  102.56209369 103.86765263 105.18983062]\n",
      " [  0.           0.           0.          96.27636465  97.50190972\n",
      "   98.74305531 100.         101.2729449  102.56209369]\n",
      " [  0.           0.           0.           0.          95.06622399\n",
      "   96.27636465  97.50190972  98.74305531 100.        ]\n",
      " [  0.           0.           0.           0.           0.\n",
      "   93.87129414  95.06622399  96.27636465  97.50190972]\n",
      " [  0.           0.           0.           0.           0.\n",
      "    0.          92.6913839   93.87129414  95.06622399]\n",
      " [  0.           0.           0.           0.           0.\n",
      "    0.           0.          91.52630447  92.6913839 ]\n",
      " [  0.           0.           0.           0.           0.\n",
      "    0.           0.           0.          90.37586945]]\n"
     ]
    },
    {
     "data": {
      "text/plain": [
       "0"
      ]
     },
     "execution_count": 76,
     "metadata": {},
     "output_type": "execute_result"
    }
   ],
   "source": [
    "price_option(0.2, 100, 50, 8/250, 1/250, 0.01, 0.01)"
   ]
  },
  {
   "cell_type": "code",
   "execution_count": null,
   "metadata": {},
   "outputs": [],
   "source": []
  }
 ],
 "metadata": {
  "kernelspec": {
   "display_name": "Python 3.9.7 64-bit",
   "language": "python",
   "name": "python3"
  },
  "language_info": {
   "codemirror_mode": {
    "name": "ipython",
    "version": 3
   },
   "file_extension": ".py",
   "mimetype": "text/x-python",
   "name": "python",
   "nbconvert_exporter": "python",
   "pygments_lexer": "ipython3",
   "version": "3.9.7"
  },
  "orig_nbformat": 4,
  "vscode": {
   "interpreter": {
    "hash": "aee8b7b246df8f9039afb4144a1f6fd8d2ca17a180786b69acc140d282b71a49"
   }
  }
 },
 "nbformat": 4,
 "nbformat_minor": 2
}
