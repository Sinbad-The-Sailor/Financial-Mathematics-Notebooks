{
 "cells": [
  {
   "cell_type": "markdown",
   "metadata": {},
   "source": [
    "## Extreme Value Theory (EVT)\n",
    "\n",
    "EVT can be used to better estimate tail losses of portfolios. Risk measurements such as VaR and ES are poor when examining high confidence levels, e.g., 99 % or 99.9%. A solution is to better describe the tail losses with a distribution in and of itself. It is after all only the loss tail we are interested in when doing risk management. \n",
    "\n",
    "EVT has two apporaches:\n",
    "\n",
    "* **Block Maximia**: Examining the largest value with a chunk of observations (e.g. with a certain fixed time period)\n",
    "* **Peaks Over Threshold**: Examining the values which falls above some fixed threshold (usually the $95^{\\text{th}}$ percentile of the dataset)\n",
    "\n",
    "Both approaches rely on their respective fundamental Extreme Value Theorem. These are esoterically linked, however, in finance, and for most practical purposes, Peaks Over Threshold (POT) is more suitable and easier to implement. \n",
    "\n",
    "Thus, we are looking for the distribution of losses $\\mathbb{P}(L \\leq y + u |L>u)$ where $L$ is the loss distribution and $u$ is the $95^{\\text{th}}$ percentile of some dataset $\\mathcal{D} \\triangleq \\{r_i\\}_{i=1}^n$ of returns. Using rudimentary probability theory we obtain \n",
    "$$\n",
    "\\mathbb{P}(L \\leq y + u | L > u) = \\frac{\\mathbb{P}(\\{L \\leq y + u \\} \\cap \\{ L> u\\} )}{\\mathbb{P}(L>u)}.\n",
    "$$\n",
    "\n",
    "\n",
    "A main result in EVT for the POT approach states that $\\mathbb{P}(L \\leq y + u | L > u) \\approx G_{\\xi, \\beta}(y)$ where $G_{\\xi, \\beta}(y)$ is a generalized Pareto distribution (GPD). This distributions have the following expression\n",
    "$$\n",
    "    G_{\\xi, \\beta} (y) = \\begin{cases} 1 - \\Big[1 + \\xi \\frac{y}{\\beta} \\Big]^{-\\frac{1}{\\xi}}, & \\xi \\neq 0, \\\\ 1 - \\textrm{exp}\\Big\\{-\\frac{y}{\\beta} \\Big\\}, & \\xi = 0,\\end{cases}\n",
    "$$\n",
    "with the probability density function\n",
    "$$\n",
    "    g_{\\xi, \\beta} (y) = \\begin{cases} \\frac{1}{\\beta}\\Big(1 + \\xi \\frac{y}{\\beta} \\Big)^{-\\frac{1}{\\xi}-1}, & \\xi \\neq 0, \\\\  \\frac{1}{\\beta}\\textrm{exp}\\Big\\{-\\frac{y}{\\beta} \\Big\\}, & \\xi = 0. \\end{cases}\n",
    "$$\n",
    "\n",
    "Next we can derive the distribution of losses exceeding $u$ defined as $L_u$ by\n",
    "\n",
    "$$\n",
    "F_{L_u}(x) = G_{\\xi, \\beta}(l-u)(1 - \\hat{F}_L(u)) + \\hat{F}_L(u)\n",
    "$$"
   ]
  },
  {
   "cell_type": "code",
   "execution_count": 2,
   "metadata": {},
   "outputs": [],
   "source": [
    "%config InlineBackend.figure_format = 'retina'\n",
    "\n",
    "import seaborn as sns\n",
    "from matplotlib import pyplot as plt\n",
    "\n",
    "sns.set_theme()\n",
    "sns.set_style(\"whitegrid\", {'grid.linestyle': '--'})\n",
    "seq_col_brew = sns.color_palette(\"flag_r\", 4)\n",
    "sns.set_palette(seq_col_brew)"
   ]
  },
  {
   "cell_type": "code",
   "execution_count": null,
   "metadata": {},
   "outputs": [],
   "source": []
  }
 ],
 "metadata": {
  "kernelspec": {
   "display_name": "Python 3.9.7 64-bit",
   "language": "python",
   "name": "python3"
  },
  "language_info": {
   "codemirror_mode": {
    "name": "ipython",
    "version": 3
   },
   "file_extension": ".py",
   "mimetype": "text/x-python",
   "name": "python",
   "nbconvert_exporter": "python",
   "pygments_lexer": "ipython3",
   "version": "3.9.7"
  },
  "orig_nbformat": 4,
  "vscode": {
   "interpreter": {
    "hash": "aee8b7b246df8f9039afb4144a1f6fd8d2ca17a180786b69acc140d282b71a49"
   }
  }
 },
 "nbformat": 4,
 "nbformat_minor": 2
}
